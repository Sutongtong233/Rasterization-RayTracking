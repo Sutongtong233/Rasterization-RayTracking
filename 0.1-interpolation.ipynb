{
 "cells": [
  {
   "attachments": {},
   "cell_type": "markdown",
   "metadata": {},
   "source": [
    "# Interprolation\n",
    "\n",
    "using 4 pixel value to generate one value\n",
    "\n",
    "- downsampling (LR, low resolution) ✅\n",
    "- upsampling (HR, high resolution) ?\n",
    "\n",
    "![image](./figure/1-1.png)"
   ]
  },
  {
   "attachments": {},
   "cell_type": "markdown",
   "metadata": {},
   "source": [
    "# Applications\n",
    "\n",
    "- up/down sampling\n",
    "- texture\n",
    "- level set"
   ]
  },
  {
   "cell_type": "code",
   "execution_count": null,
   "metadata": {},
   "outputs": [],
   "source": [
    "from PIL import Image\n",
    "import matplotlib.pyplot as plt\n",
    "import numpy as np \n",
    "import math\n",
    " \n",
    "def BiLinear_interpolation(img,dstH,dstW):\n",
    "    scrH,scrW,_ = img.shape\n",
    "    img = np.pad(img,((0,1),(0,1),(0,0)),'constant')\n",
    "    retimg = np.zeros((dstH,dstW,3),dtype=np.uint8)\n",
    "    for i in range(dstH):\n",
    "        for j in range(dstW):\n",
    "            scrx = (i+1)*(scrH/dstH)-1\n",
    "            scry = (j+1)*(scrW/dstW)-1\n",
    "            x=math.floor(scrx)\n",
    "            y=math.floor(scry)\n",
    "            u=scrx-x\n",
    "            v=scry-y\n",
    "            retimg[i,j]=(1-u)*(1-v)*img[x,y] + u*(1-v)*img[x+1,y] + (1-u)*v*img[x,y+1] + u*v*img[x+1,y+1]\n",
    "    return retimg\n",
    " \n",
    "im_path='/Users/sutongtong/实验室/keep_coding/CG/result/triangle_raster.png'\n",
    "image=np.array(Image.open(im_path))\n",
    "image2=BiLinear_interpolation(image, image.shape[0]*2, image.shape[1]*2)\n",
    "image2=Image.fromarray(image2.astype('uint8')).convert('RGB')\n",
    "image2.save('/Users/sutongtong/实验室/keep_coding/CG/result/triangle_raster_.png')"
   ]
  }
 ],
 "metadata": {
  "kernelspec": {
   "display_name": "py39",
   "language": "python",
   "name": "python3"
  },
  "language_info": {
   "name": "python",
   "version": "3.9.13 (main, Oct 13 2022, 16:12:30) \n[Clang 12.0.0 ]"
  },
  "orig_nbformat": 4,
  "vscode": {
   "interpreter": {
    "hash": "8e3f7356fc6d4589bf45bdb12a904b06713bc7ba9e725132f50a114409650e40"
   }
  }
 },
 "nbformat": 4,
 "nbformat_minor": 2
}
